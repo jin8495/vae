{
 "cells": [
  {
   "cell_type": "code",
   "execution_count": null,
   "id": "fabe637a-e6d7-42e5-aafa-88baa4d901c1",
   "metadata": {
    "tags": []
   },
   "outputs": [],
   "source": [
    "from src import *\n",
    "\n",
    "import numpy as np\n",
    "import torch\n",
    "\n",
    "import time\n",
    "\n",
    "%matplotlib inline\n"
   ]
  },
  {
   "cell_type": "markdown",
   "id": "e8b2fa1a-1d13-464e-9da8-e9b317027e66",
   "metadata": {},
   "source": [
    "# CUDA"
   ]
  },
  {
   "cell_type": "code",
   "execution_count": null,
   "id": "aceddd65-80dc-4696-82a8-8927030b04cf",
   "metadata": {},
   "outputs": [],
   "source": [
    "torch.manual_seed(1)\n",
    "torch.cuda.manual_seed(1)\n",
    "\n",
    "device = torch.device('cuda' if torch.cuda.is_available() else 'cpu')\n",
    "print('PyTorch is using', device)"
   ]
  },
  {
   "cell_type": "markdown",
   "id": "ea70f808-1302-43c9-baec-466470dd8637",
   "metadata": {
    "tags": []
   },
   "source": [
    "# Parameters"
   ]
  },
  {
   "cell_type": "code",
   "execution_count": null,
   "id": "f9d1aa1b-8260-4910-9748-8a2ccf654b9d",
   "metadata": {
    "tags": []
   },
   "outputs": [],
   "source": [
    "from configs import *"
   ]
  },
  {
   "cell_type": "markdown",
   "id": "391ed6bb-6479-44f2-a09d-f261aec341e5",
   "metadata": {},
   "source": [
    "# Main"
   ]
  },
  {
   "cell_type": "markdown",
   "id": "46946d01-d1ef-4a0c-bb4d-698a3ad04a2a",
   "metadata": {},
   "source": [
    "### Dataset"
   ]
  },
  {
   "cell_type": "code",
   "execution_count": null,
   "id": "c607dd2f-0e14-4482-865a-1b2b1ca8b510",
   "metadata": {
    "tags": []
   },
   "outputs": [],
   "source": [
    "transforms = transforms.Compose([\n",
    "    transforms.Resize(size=(resize_h, resize_w)),\n",
    "    transforms.ToTensor(),    \n",
    "])\n",
    "dataset = CustomDataset(dataset_name=dataset_name, transforms=transforms)\n",
    "train_loader = dataset.get_dataloader(is_train=True,\n",
    "                                      batch_size=batch_size,\n",
    "                                      shuffle=True,\n",
    "                                      num_workers=num_workers,\n",
    "                                      prefetch_factor=prefetch_factor)\n",
    "test_loader = dataset.get_dataloader(is_train=False,\n",
    "                                     batch_size=batch_size,\n",
    "                                     shuffle=False,\n",
    "                                     num_workers=num_workers,\n",
    "                                     prefetch_factor=prefetch_factor)"
   ]
  },
  {
   "cell_type": "markdown",
   "id": "f2728646-498b-4a4e-b117-10d4f371daf5",
   "metadata": {},
   "source": [
    "### Model"
   ]
  },
  {
   "cell_type": "code",
   "execution_count": null,
   "id": "e42ca2a0-3f88-4a8c-b1f5-e41ca0def804",
   "metadata": {
    "tags": []
   },
   "outputs": [],
   "source": [
    "input_dim = resize_h, resize_w, input_ch\n",
    "model = VAE(input_dim, channels, num_z).to(device)\n",
    "print(model)\n",
    "\n",
    "criterion = ELBO(input_dim)\n",
    "optimizer = optim.Adam(model.parameters(), lr=init_lr)\n",
    "scheduler = optim.lr_scheduler.LambdaLR(optimizer=optimizer,\n",
    "                                        lr_lambda=lambda epoch: lr_decay ** epoch)"
   ]
  },
  {
   "cell_type": "code",
   "execution_count": null,
   "id": "b5d08857-f922-4e84-9ec5-b091585c1dae",
   "metadata": {
    "tags": []
   },
   "outputs": [],
   "source": [
    "# Learn\n",
    "total_time = 0\n",
    "train_losses = {\"ELBO\": []}\n",
    "test_losses = {\"ELBO\": [], \"MSE\":[]}\n",
    "\n",
    "for epoch in range(1, epochs + 1):\n",
    "    # generate and visualize\n",
    "    samples, recons = reconstruct(model, test_loader, device)\n",
    "    visualize_imgs(samples, recons)\n",
    "    \n",
    "    # train\n",
    "    start_time = time.time()\n",
    "    train_loss = train(epoch,\n",
    "                       model, train_loader,\n",
    "                       criterion, optimizer, scheduler,\n",
    "                       device)\n",
    "    end_time = time.time()\n",
    "    train_losses[\"ELBO\"].append(train_loss)\n",
    "    dt = end_time - start_time\n",
    "    total_time += dt\n",
    "\n",
    "    # test\n",
    "    test_elbo_loss, test_mse_loss = test(epoch,\n",
    "                                         model, test_loader,\n",
    "                                         criterion,\n",
    "                                         device)\n",
    "    test_losses[\"ELBO\"].append(test_elbo_loss)\n",
    "    test_losses[\"MSE\"].append(test_mse_loss)\n",
    "    \n",
    "    print(f'Epoch {epoch} / {epochs} in {dt:.2f} secs')\n",
    "    print(f'Train loss[ELBO] {train_loss:.4f}, Test loss[ELBO] {test_elbo_loss:.4f}, Test loss[MSE] {test_mse_loss:.5f}')\n",
    "\n",
    "print('Train loss[ELBO]:', train_losses[\"ELBO\"])\n",
    "print('Test loss[ELBO]:', test_losses[\"ELBO\"])\n",
    "print('Test loss[MSE]:', test_losses[\"MSE\"])\n",
    "print(f'Average {total_time / epochs:.2f} secs per epoch consumed')\n",
    "print(f'Total {total_time:.2f} secs consumed')"
   ]
  },
  {
   "cell_type": "markdown",
   "id": "cf8cdb54-c997-4397-940e-99e790218232",
   "metadata": {},
   "source": [
    "# Save results"
   ]
  },
  {
   "cell_type": "code",
   "execution_count": null,
   "id": "03afe0da-cd6f-46c6-aba1-7a37f7e3874a",
   "metadata": {},
   "outputs": [],
   "source": [
    "import os\n",
    "import pandas as pd\n",
    "\n",
    "save_dir = \"./results\"\n",
    "save_dir = os.path.realpath(save_dir)\n",
    "if not os.path.isdir(save_dir):\n",
    "    os.makedirs(save_dir)\n",
    "\n",
    "# save model\n",
    "state_dict_path = os.path.join(save_dir, \"vae_state_dict.pth\")\n",
    "state_dict = model.to('cpu').state_dict()\n",
    "torch.save(state_dict, state_dict_path)\n",
    "\n",
    "# save results\n",
    "results = {\n",
    "    \"TrainLoss-ELBO\" : train_losses[\"ELBO\"],\n",
    "    \"TestLoss-ELBO\"  : test_losses[\"ELBO\"],\n",
    "    \"TestLoss-MSE\"   : test_losses[\"MSE\"],\n",
    "    \"TrainTime\"      : elapsed_times,\n",
    "}\n",
    "results_path = os.path.join(save_dir, \"vae_training_results.csv\")\n",
    "results_df = pd.DataFrame(results).reset_index(drop=True)\n",
    "results_df.to_csv(results_path)"
   ]
  }
 ],
 "metadata": {
  "kernelspec": {
   "display_name": "Python 3 (ipykernel)",
   "language": "python",
   "name": "python3"
  },
  "language_info": {
   "codemirror_mode": {
    "name": "ipython",
    "version": 3
   },
   "file_extension": ".py",
   "mimetype": "text/x-python",
   "name": "python",
   "nbconvert_exporter": "python",
   "pygments_lexer": "ipython3",
   "version": "3.7.11"
  }
 },
 "nbformat": 4,
 "nbformat_minor": 5
}
